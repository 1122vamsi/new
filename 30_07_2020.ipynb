{
  "nbformat": 4,
  "nbformat_minor": 0,
  "metadata": {
    "colab": {
      "name": "30-07-2020.ipynb",
      "provenance": [],
      "mount_file_id": "1l3xCYblHe1SHS8tfeWteqy4R7AwTH77F",
      "authorship_tag": "ABX9TyNyfN0QfhRrRPuD4qAnuyEz",
      "include_colab_link": true
    },
    "kernelspec": {
      "name": "python3",
      "display_name": "Python 3"
    }
  },
  "cells": [
    {
      "cell_type": "markdown",
      "metadata": {
        "id": "view-in-github",
        "colab_type": "text"
      },
      "source": [
        "<a href=\"https://colab.research.google.com/github/1122vamsi/new/blob/master/30_07_2020.ipynb\" target=\"_parent\"><img src=\"https://colab.research.google.com/assets/colab-badge.svg\" alt=\"Open In Colab\"/></a>"
      ]
    },
    {
      "cell_type": "code",
      "metadata": {
        "id": "EVt8gJ89z8VV",
        "colab_type": "code",
        "colab": {}
      },
      "source": [
        "from tensorflow import keras\n",
        "model = keras.models.load_model(\"/content/drive/My Drive/test\")"
      ],
      "execution_count": 1,
      "outputs": []
    },
    {
      "cell_type": "code",
      "metadata": {
        "id": "9AYPrqzf0KUD",
        "colab_type": "code",
        "colab": {}
      },
      "source": [
        "import cv2\n",
        "import tensorflow as tf\n",
        "\n",
        "CATEGORIES = [\"Dog\", \"Cat\"]  # will use this to convert prediction num to string value\n",
        "\n",
        "\n",
        "def prepare(filepath):\n",
        "    IMG_SIZE = 150  # 50 in txt-based\n",
        "    img_array = cv2.imread(filepath)  # read in the image, convert to grayscale\n",
        "    print(type(img_array))\n",
        "    new_array = cv2.resize(img_array, (IMG_SIZE, IMG_SIZE))  # resize image to match model's expected sizing\n",
        "    return new_array.reshape(1, IMG_SIZE, IMG_SIZE, 3) "
      ],
      "execution_count": 39,
      "outputs": []
    },
    {
      "cell_type": "code",
      "metadata": {
        "id": "o9fKr0fB0zWs",
        "colab_type": "code",
        "colab": {
          "base_uri": "https://localhost:8080/",
          "height": 34
        },
        "outputId": "b03d941b-cb2b-426a-e853-e66bf8924ffb"
      },
      "source": [
        "temp = prepare(\"./dog_cat.jpg\")\n"
      ],
      "execution_count": 45,
      "outputs": [
        {
          "output_type": "stream",
          "text": [
            "<class 'numpy.ndarray'>\n"
          ],
          "name": "stdout"
        }
      ]
    },
    {
      "cell_type": "code",
      "metadata": {
        "id": "0RFyiWSS0ogZ",
        "colab_type": "code",
        "colab": {}
      },
      "source": [
        "result = model.predict(temp)"
      ],
      "execution_count": 46,
      "outputs": []
    },
    {
      "cell_type": "code",
      "metadata": {
        "id": "ELLtFcFY75Ma",
        "colab_type": "code",
        "colab": {}
      },
      "source": [
        "new_array = cv2.resize(temp, (150, 200))"
      ],
      "execution_count": null,
      "outputs": []
    },
    {
      "cell_type": "code",
      "metadata": {
        "id": "ifn49b4205Kt",
        "colab_type": "code",
        "colab": {}
      },
      "source": [
        "new_array.reshape(1, 150, 200, 3)"
      ],
      "execution_count": null,
      "outputs": []
    },
    {
      "cell_type": "code",
      "metadata": {
        "id": "C92q81g11RvP",
        "colab_type": "code",
        "colab": {}
      },
      "source": [
        "from IPython.display import display\n",
        "from PIL import Image"
      ],
      "execution_count": 25,
      "outputs": []
    },
    {
      "cell_type": "code",
      "metadata": {
        "id": "CtFFlJJV1bKT",
        "colab_type": "code",
        "colab": {
          "base_uri": "https://localhost:8080/",
          "height": 217
        },
        "outputId": "5686e148-9770-4c75-89d9-f509622c6168"
      },
      "source": [
        "display(img)"
      ],
      "execution_count": 49,
      "outputs": [
        {
          "output_type": "display_data",
          "data": {
            "image/png": "[encoded data removed]",
            "text/plain": [
              "<PIL.Image.Image image mode=RGB size=150x200 at 0x7F35B884A048>"
            ]
          },
          "metadata": {
            "tags": []
          }
        }
      ]
    },
    {
      "cell_type": "code",
      "metadata": {
        "id": "_eE4zFqd1ddZ",
        "colab_type": "code",
        "colab": {}
      },
      "source": [
        "img = Image.fromarray(temp, 'RGB')\n",
        "img.show()"
      ],
      "execution_count": null,
      "outputs": []
    },
    {
      "cell_type": "code",
      "metadata": {
        "id": "eqX0QkBo21ZF",
        "colab_type": "code",
        "colab": {}
      },
      "source": [
        "img.save('./test_my.png')"
      ],
      "execution_count": 28,
      "outputs": []
    },
    {
      "cell_type": "code",
      "metadata": {
        "id": "NnCj31Rj3FaS",
        "colab_type": "code",
        "colab": {}
      },
      "source": [
        ""
      ],
      "execution_count": null,
      "outputs": []
    }
  ]
}